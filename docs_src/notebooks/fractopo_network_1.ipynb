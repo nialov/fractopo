{
 "cells": [
  {
   "cell_type": "markdown",
   "metadata": {},
   "source": [
    "# Notebook - Fractopo – KB11 Fracture Network Analysis\n",
    "\n",
    "`fractopo` enables fast and scalable analysis of two-dimensional georeferenced fracture and lineament datasets. These are typically created with remote sensing using a variety of background materials: fractures can be extracted from outcrop orthomosaics and lineaments from digital elevation models (DEMs). Collectively both lineament and fracture datasets can be referred to as *trace* datasets or as *fracture networks*.\n",
    "\n",
    "`fractopo` implements suggestions for structural geological studies by [Peacock and Sanderson (2018)](https://doi.org/10.1016/j.earscirev.2018.06.006):\n",
    "\n",
    ">   **Basic geological descriptions should be followed by measuring their\n",
    "   geometries and topologies, understanding their age relationships,**\n",
    "   kinematic and mechanics, and developing a realistic, data-led model\n",
    "   for related fluid flow.\n",
    "\n",
    "`fractopo` characterizes the individual and overall geometry and topology of fractures and the fracture network. Furthermore the age relations are investigated with determined topological cross-cutting and abutting relationship between fracture sets.\n",
    "\n",
    "Whether `fractopo` evolves to implement all the steps in the quote remains to be seen! The functionality grows as more use cases require implementation."
   ]
  },
  {
   "cell_type": "markdown",
   "metadata": {},
   "source": [
    "## Development imports (just skip to next heading, Data, if not interested!)"
   ]
  },
  {
   "cell_type": "markdown",
   "metadata": {},
   "source": [
    "Avoid cluttering outputs with warnings."
   ]
  },
  {
   "cell_type": "code",
   "execution_count": null,
   "metadata": {},
   "outputs": [],
   "source": [
    "import warnings\n",
    "\n",
    "warnings.filterwarnings(\"ignore\", message=\"The Shapely GEOS\")\n",
    "warnings.filterwarnings(\"ignore\", message=\"In a future version, \")\n",
    "warnings.filterwarnings(\"ignore\", message=\"No data for colormapping provided via\")"
   ]
  },
  {
   "cell_type": "markdown",
   "metadata": {},
   "source": [
    "`geopandas` is the main module which `fractopo` is based on. It along with `shapely` and `pygeos` implement all spatial operations required for two-dimensional fracture network analysis. `geopandas` further implements all input-output operations like reading and writing spatial datasets (shapefiles, GeoPackages, GeoJSON, etc.)."
   ]
  },
  {
   "cell_type": "code",
   "execution_count": null,
   "metadata": {},
   "outputs": [],
   "source": [
    "import geopandas as gpd"
   ]
  },
  {
   "cell_type": "markdown",
   "metadata": {},
   "source": [
    "`geopandas` uses `matplotlib` for visualizing spatial datasets."
   ]
  },
  {
   "cell_type": "code",
   "execution_count": null,
   "metadata": {},
   "outputs": [],
   "source": [
    "import matplotlib.pyplot as plt"
   ]
  },
  {
   "cell_type": "markdown",
   "metadata": {},
   "source": [
    "During local development the imports might be a bit messy as seen here. Not interesting for end-users."
   ]
  },
  {
   "cell_type": "code",
   "execution_count": null,
   "metadata": {},
   "outputs": [],
   "source": [
    "# This cell's contents only for development purposes.\n",
    "from importlib.util import find_spec\n",
    "\n",
    "if find_spec(\"fractopo\") is None:\n",
    "    import sys\n",
    "\n",
    "    sys.path.append(\"../../\")"
   ]
  },
  {
   "cell_type": "markdown",
   "metadata": {},
   "source": [
    "## Data\n",
    "\n",
    "Fracture network data consists of georeferenced lineament or fracture traces, manually or automatically digitized, and a target area boundary that delineates the area in which fracture digiziting has been done. The boundary is important to handle edge effects in network analysis. `fractopo` only has a stub (and untested) implementation for cases where no target area is given so I strongly recommend to always delineate the traced fractures and pass the target area to `Network`.\n",
    "\n",
    "`geopandas` is used to read and write spatial datasets. Here we use `geopandas` to both download and load trace and area datasets that are hosted on GitHub. A more typical case is that you have local files you wish to analyze in which case you can replace the url string with a path to the local file. E.g.\n",
    "\n",
    "``` python\n",
    "# Local trace data\n",
    "trace_data_url = \"~/data/traces.gpkg\"\n",
    "```\n",
    "\n",
    "The example dataset here is from an island south of Loviisa, Finland. The island only consists of outcrop quite well polished by glaciations. The dataset is in `ETRS-TM35FIN` coordinate reference system."
   ]
  },
  {
   "cell_type": "code",
   "execution_count": null,
   "metadata": {},
   "outputs": [],
   "source": [
    "# Trace and target area data available on GitHub\n",
    "trace_data_url = \"https://raw.githubusercontent.com/nialov/fractopo/master/tests/sample_data/KB11/KB11_traces.geojson\"\n",
    "area_data_url = \"https://raw.githubusercontent.com/nialov/fractopo/master/tests/sample_data/KB11/KB11_area.geojson\"\n",
    "\n",
    "# Use geopandas to load data from urls\n",
    "traces = gpd.read_file(trace_data_url)\n",
    "area = gpd.read_file(area_data_url)\n",
    "\n",
    "# Name the dataset\n",
    "name = \"KB11\""
   ]
  },
  {
   "cell_type": "markdown",
   "metadata": {},
   "source": [
    "### Visualizing trace map data\n",
    "\n",
    "`geopandas` has easy methods for plotting spatial data along with data coordinates. The plotting is based on `matplotlib`."
   ]
  },
  {
   "cell_type": "code",
   "execution_count": null,
   "metadata": {},
   "outputs": [],
   "source": [
    "# Initialize the figure and ax in which data is plotted\n",
    "fig, ax = plt.subplots(figsize=(9, 9))\n",
    "\n",
    "# Plot the loaded trace dataset consisting of fracture traces.\n",
    "traces.plot(ax=ax, color=\"blue\")\n",
    "\n",
    "# Plot the loaded area dataset that consists of a single polygon that delineates the traces.\n",
    "area.boundary.plot(ax=ax, color=\"red\")\n",
    "\n",
    "# Give the figure a title\n",
    "ax.set_title(f\"{name}, Coordinate Reference System = {traces.crs}\")"
   ]
  },
  {
   "cell_type": "markdown",
   "metadata": {},
   "source": [
    "## Network\n",
    "\n",
    "So far we have not used any `fractopo` functionality, just `geopandas`. Now we use the `Network` class to create `Network` instances that can be thought of as abstract representations of fracture networks. The fracture network contains traces and a target area boundary delineating the traces. \n",
    "\n",
    "To characterize the topology of a fracture network `fractopo` determines the topological branches and nodes ([Sanderson and Nixon 2015](https://doi.org/10.1016/j.jsg.2015.01.005)). \n",
    "\n",
    "-  Nodes consist of trace endpoints which can be isolated or snapped to end at another trace. \n",
    "-  Branches consist of every trace segment between the aforementioned nodes. \n",
    "\n",
    "Automatic determination of branches and nodes is determined with the `determine_branches_nodes` keyword. If given as `False`, they are not determined. You can still use the `Network` object to investigate geometric properties of just the traces.\n",
    "\n",
    "`Network` initialization should be supplied with information regarding the trace dataset:\n",
    "\n",
    "-  `truncate_traces`\n",
    "\n",
    "    -  If you wish to only characterize the network within the target area boundary, the input traces should be cropped to the target area boundary. This is done when                  `truncate_traces` is given as `True.` `True` recommended.\n",
    "\n",
    "-  `circular_target_area`\n",
    "\n",
    "    -  If the target area is a circle `circular_target_area` should be given as `True`. A circular target area is recommended to avoid orientation bias in node counting.\n",
    "   \n",
    "-  `snap_threshold`\n",
    "\n",
    "    -  To determine topological relationships between traces the abutments between traces should be snapped to some tolerance. This tolerance can be given here, in the same unit used for the traces. It represents the smallest distance between nodes for which `fractopo` interprets them as two distinct nodes. This value should be carefully chosen depending on the size of the area of interest. As a reference, when digitizing in QGIS with snapping turned on, the tolerance is probably much lower than `0.001`.\n",
    "    \n",
    "    -  The trace validation functionality of `fractopo` can be (and should be) used to check that there are no topological errors within a certain tolerance."
   ]
  },
  {
   "cell_type": "code",
   "execution_count": null,
   "metadata": {},
   "outputs": [],
   "source": [
    "# Import the Network class from fractopo\n",
    "from fractopo import Network"
   ]
  },
  {
   "cell_type": "code",
   "execution_count": null,
   "metadata": {},
   "outputs": [],
   "source": [
    "# Create Network and automatically determine branches and nodes\n",
    "# The Network instance is saved as kb11_network variable.\n",
    "kb11_network = Network(\n",
    "    traces,\n",
    "    area,\n",
    "    name=name,\n",
    "    determine_branches_nodes=True,\n",
    "    truncate_traces=True,\n",
    "    circular_target_area=True,\n",
    "    snap_threshold=0.001,\n",
    ")"
   ]
  },
  {
   "cell_type": "markdown",
   "metadata": {},
   "source": [
    "### Visualizing fracture network branches and nodes\n",
    "\n",
    "We can similarly to the traces visualize the branches and nodes with `geopandas` plotting."
   ]
  },
  {
   "cell_type": "code",
   "execution_count": null,
   "metadata": {},
   "outputs": [],
   "source": [
    "# Import identifier strings of topological branches and nodes\n",
    "from fractopo.general import CC_branch, CI_branch, II_branch, X_node, Y_node, I_node\n",
    "\n",
    "\n",
    "# Function to determine color for each branch and node type\n",
    "def assign_colors(feature_type: str):\n",
    "    if feature_type in (CC_branch, X_node):\n",
    "        return \"green\"\n",
    "    if feature_type in (CI_branch, Y_node):\n",
    "        return \"blue\"\n",
    "    if feature_type in (II_branch, I_node):\n",
    "        return \"black\"\n",
    "    return \"red\""
   ]
  },
  {
   "cell_type": "markdown",
   "metadata": {},
   "source": [
    "| Branch or Node Type | Color |\n",
    "|---------------------|-------|\n",
    "| C - C, X            | Green |\n",
    "| C - I, Y            | Blue  |\n",
    "| I - I, I            | Black |\n",
    "| Other               | Red   |"
   ]
  },
  {
   "cell_type": "markdown",
   "metadata": {},
   "source": [
    "#### Branches"
   ]
  },
  {
   "cell_type": "code",
   "execution_count": null,
   "metadata": {},
   "outputs": [],
   "source": [
    "fix, ax = plt.subplots(figsize=(9, 9))\n",
    "kb11_network.branch_gdf.plot(\n",
    "    colors=[assign_colors(bt) for bt in kb11_network.branch_types], ax=ax\n",
    ")\n",
    "area.boundary.plot(ax=ax, color=\"red\")"
   ]
  },
  {
   "cell_type": "markdown",
   "metadata": {},
   "source": [
    "#### Nodes"
   ]
  },
  {
   "cell_type": "code",
   "execution_count": null,
   "metadata": {},
   "outputs": [],
   "source": [
    "fix, ax = plt.subplots(figsize=(9, 9))\n",
    "# Traces\n",
    "kb11_network.trace_gdf.plot(ax=ax, linewidth=0.5)\n",
    "# Nodes\n",
    "kb11_network.node_gdf.plot(\n",
    "    c=[assign_colors(bt) for bt in kb11_network.node_types], ax=ax, markersize=10\n",
    ")\n",
    "area.boundary.plot(ax=ax, color=\"red\")"
   ]
  },
  {
   "cell_type": "markdown",
   "metadata": {},
   "source": [
    "## Geometric Fracture Network Characterization\n",
    "\n",
    "The most basic geometric properties of traces are their **length** and **orientation**. \n",
    "\n",
    "**Length** is the overall travel distance along the digitized trace. The length of traces individually is usually not interesting but the value **distribution** of all of the lengths is ([Bonnet et al. 2001](https://doi.org/10.1029/1999RG000074)). `fractopo` uses another Python package, `powerlaw`, for determining power-law, lognormal and exponential distribution fits. The wrapper around `powerlaw` is thin and therefore I urge you to see its [documentation](https://github.com/jeffalstott/powerlaw) and associated [article](https://doi.org/10.1371/journal.pone.0095816) for more info.\n",
    "\n",
    "**Orientation** of a trace (or branch, or any line) can be defined in multiple ways that approach the same result when the line is **sublinear**:\n",
    "\n",
    "-  Draw a straight line between the start and endpoints of the trace and calculate the orientation of that line. \n",
    "\n",
    "    -  This is the approach used in `fractopo`. Simple, but when the trace is curvy enough the simplification might be detrimental to analysis.\n",
    "    \n",
    "-  Plot each coordinate point of a trace and fit a linear regression trend line. Calculate the orientation of the trend line.\n",
    "\n",
    "-  Calculate the orientation of each segment between coordinate points resulting in multiple orientation values for a single trace."
   ]
  },
  {
   "cell_type": "markdown",
   "metadata": {},
   "source": [
    "### Length distributions"
   ]
  },
  {
   "cell_type": "markdown",
   "metadata": {},
   "source": [
    "#### Traces"
   ]
  },
  {
   "cell_type": "code",
   "execution_count": null,
   "metadata": {},
   "outputs": [],
   "source": [
    "# Plot length distribution fits (powerlaw, exponential and lognormal) of fracture traces using powerlaw\n",
    "fit, fig, ax = kb11_network.plot_trace_lengths()"
   ]
  },
  {
   "cell_type": "code",
   "execution_count": null,
   "metadata": {},
   "outputs": [],
   "source": [
    "# Fit properties\n",
    "print(f\"Automatically determined powerlaw cut-off: {fit.xmin}\")\n",
    "print(f\"Powerlaw exponent: {fit.alpha - 1}\")\n",
    "print(\n",
    "    f\"Compare powerlaw fit to lognormal: R, p = {fit.distribution_compare('power_law', 'lognormal')}\"\n",
    ")"
   ]
  },
  {
   "cell_type": "markdown",
   "metadata": {},
   "source": [
    "#### Branches"
   ]
  },
  {
   "cell_type": "code",
   "execution_count": null,
   "metadata": {},
   "outputs": [],
   "source": [
    "# Length distribution of branches\n",
    "fit, fig, ax = kb11_network.plot_branch_lengths()"
   ]
  },
  {
   "cell_type": "code",
   "execution_count": null,
   "metadata": {},
   "outputs": [],
   "source": [
    "# Fit properties\n",
    "print(f\"Automatically determined powerlaw cut-off: {fit.xmin}\")\n",
    "print(f\"Powerlaw exponent: {fit.alpha - 1}\")\n",
    "print(\n",
    "    f\"Compare powerlaw fit to lognormal: R, p = {fit.distribution_compare('power_law', 'lognormal')}\"\n",
    ")"
   ]
  },
  {
   "cell_type": "markdown",
   "metadata": {},
   "source": [
    "### Rose plots\n",
    "\n",
    "A rose plot is a histogram where the bars have been oriented based on pre-determined bins. `fractopo` rose plots are length-weighted and equal-area. Length-weighted means that each bin contains the total length of traces or branches within the orientation range of the bin.\n",
    "\n",
    "The method for calculating the bins and reasoning for using **equal-area** rose plots is from publication by [Sanderson and Peacock (2020)](https://doi.org/10.1016/j.earscirev.2019.103055)."
   ]
  },
  {
   "cell_type": "code",
   "execution_count": null,
   "metadata": {},
   "outputs": [],
   "source": [
    "# Plot azimuth rose plot of fracture traces and branches\n",
    "azimuth_bin_dict, fig, ax = kb11_network.plot_trace_azimuth()"
   ]
  },
  {
   "cell_type": "code",
   "execution_count": null,
   "metadata": {},
   "outputs": [],
   "source": [
    "# Plot azimuth rose plot of fracture branches\n",
    "azimuth_bin_dict, fig, ax = kb11_network.plot_branch_azimuth()"
   ]
  },
  {
   "cell_type": "markdown",
   "metadata": {},
   "source": [
    "## Topological Fracture Network Characterization\n",
    "\n",
    "The determination of branches and nodes are essential for characterizing the topology of a fracture network. The topology is the collection of properties of the traces that do not change when the traces are transformed continously i.e. the traces are not cut but are extended or shrinked. In geological terms the traces can go through ductile transformation without losing their topological properties but not brittle transformation. Furthermore this means the end topology of the traces is a result of brittle transformation(s).\n",
    "\n",
    "At its simplest the proportion of different types of branches and nodes are used to characterize the topology.\n",
    "\n",
    "Branches can be categorized into three main categories:\n",
    "\n",
    "-  **C–C** is connected at both endpoints\n",
    "    \n",
    "-  **C-I** is connected at one endpoint\n",
    "\n",
    "-  **I-I** is not connected at either endpoint\n",
    "    \n",
    "Nodes can be similarly categorized into three categories:\n",
    "\n",
    "-  **X** represents intersection between two traces\n",
    "    \n",
    "-  **Y** represents abutment of one trace to another\n",
    "    \n",
    "-  **I** represents isolated termination of a trace\n",
    "\n",
    "Furthermore **E** node and any **E**-containing branch classification (e.g. **I-E**) are related to the trace area boundary. Branches are always cropped to the boundary and branches that are cut then have a **E** node as end endpoint."
   ]
  },
  {
   "cell_type": "markdown",
   "metadata": {},
   "source": [
    "### Node and branch proportions\n",
    "\n",
    "The proportion of the different types of nodes and branches have direct implications for the overall connectivity of a fracture network (Sanderson and Nixon 2015).\n",
    "\n",
    "The proportions are plotted on ternary plots. The plotting uses [python-ternary](https://github.com/marcharper/python-ternary)."
   ]
  },
  {
   "cell_type": "code",
   "execution_count": null,
   "metadata": {},
   "outputs": [],
   "source": [
    "kb11_network.node_counts"
   ]
  },
  {
   "cell_type": "code",
   "execution_count": null,
   "metadata": {},
   "outputs": [],
   "source": [
    "# Plot ternary XYI-node proportion plot\n",
    "fig, ax, tax = kb11_network.plot_xyi()"
   ]
  },
  {
   "cell_type": "code",
   "execution_count": null,
   "metadata": {},
   "outputs": [],
   "source": [
    "kb11_network.branch_counts"
   ]
  },
  {
   "cell_type": "code",
   "execution_count": null,
   "metadata": {},
   "outputs": [],
   "source": [
    "# Plot ternary branch (C-C, C-I, I-I) proportion plot\n",
    "fig, ax, tax = kb11_network.plot_branch()"
   ]
  },
  {
   "cell_type": "markdown",
   "metadata": {},
   "source": [
    "### Crosscutting and abutting relationships\n",
    "\n",
    "If the geometry and topology of the fracture network are investigated together the cross-cutting and abutting relationships between orientation-binned fracture sets can be determined. Traces can be binned into sets based on their orientation (e.g. N-S oriented traces could belong to Set 1 and E-W oriented traces to Set 2). If the endpoints of the traces of sets are examined the abutment relationship between can be determined i.e. which abuts which (e.g. does the N-S oriented Set 1 traces abut to E-W oriented Set 2 or do they crosscut each other equal amounts.)"
   ]
  },
  {
   "cell_type": "code",
   "execution_count": null,
   "metadata": {},
   "outputs": [],
   "source": [
    "# Sets are defaults\n",
    "print(f\"Azimuth set names: {kb11_network.azimuth_set_names}\")\n",
    "print(f\"Azimuth set ranges: {kb11_network.azimuth_set_ranges}\")"
   ]
  },
  {
   "cell_type": "code",
   "execution_count": null,
   "metadata": {},
   "outputs": [],
   "source": [
    "# Plot crosscutting and abutting relationships between azimuth sets\n",
    "figs, fig_axes = kb11_network.plot_azimuth_crosscut_abutting_relationships()"
   ]
  },
  {
   "cell_type": "markdown",
   "metadata": {},
   "source": [
    "## Numerical Fracture Network Characterization Parameters\n",
    "\n",
    "The quantity, total length and other geometric and topological properties of the traces, branches and nodes within the target area can be determined as numerical values. For the following parameters I refer you to the following articles:\n",
    "\n",
    "-  [Mauldon et al. 2001](https://doi.org/10.1016/S0191-8141(00)00094-8)\n",
    "-  [Sanderson and Nixon 2015](https://doi.org/10.1016/j.jsg.2015.01.005)"
   ]
  },
  {
   "cell_type": "code",
   "execution_count": null,
   "metadata": {
    "tags": []
   },
   "outputs": [],
   "source": [
    "kb11_network.parameters"
   ]
  },
  {
   "cell_type": "markdown",
   "metadata": {},
   "source": [
    "## Contour Grids\n",
    "\n",
    "To visualize the spatial variation of geometric and topological parameter values the network can be sampled with a grid of rectangles. From the center of each rectangle a sampling circle is made which is used to do the actual sampling following [Nyberg et al. 2018 (See Fig. 3F)](https://doi.org/10.1130/GES01595.1).\n",
    "\n",
    "Sampling with a contour grid is time-consuming and therefore the following code is not executed within this notebooks by default. The end result is embedded as images. Paste the code from the below cell blocks to a Python cell to execute them.\n",
    "\n",
    "To perform sampling with a cell width of 0.75 $m$:\n",
    "\n",
    "~~~python\n",
    "sampled_grid = network.contour_grid(\n",
    "    cell_width=0.75,\n",
    ")\n",
    "~~~\n",
    "\n",
    "To visualize results for parameter *Fracture Intensity P21*:\n",
    "\n",
    "~~~python\n",
    "network.plot_contour(parameter=\"Fracture Intensity P21\", sampled_grid=sampled_grid)\n",
    "~~~\n",
    "\n",
    "Result:\n",
    "\n",
    "![*Fracture Intensity P21*](https://raw.githubusercontent.com/nialov/fractopo/master/docs_src/imgs/kb11_contour_grid_p21.png)\n",
    "\n",
    "To visualize results for parameter *Connections per Branch*:\n",
    "\n",
    "~~~python\n",
    "network.plot_contour(parameter=\"Connections per Branch\", sampled_grid=sampled_grid)\n",
    "~~~\n",
    "\n",
    "Result:\n",
    "\n",
    "![*Connections per Branch*](https://raw.githubusercontent.com/nialov/fractopo/master/docs_src/imgs/kb11_contour_grid_cpb.png)"
   ]
  },
  {
   "cell_type": "markdown",
   "metadata": {},
   "source": [
    "## Tests to verify notebook consistency"
   ]
  },
  {
   "cell_type": "code",
   "execution_count": null,
   "metadata": {},
   "outputs": [],
   "source": [
    "assert hasattr(kb11_network, \"contour_grid\") and hasattr(kb11_network, \"plot_contour\")"
   ]
  }
 ],
 "metadata": {
  "kernelspec": {
   "display_name": "Python 3 (ipykernel)",
   "language": "python",
   "name": "python3"
  },
  "language_info": {
   "codemirror_mode": {
    "name": "ipython",
    "version": 3
   },
   "file_extension": ".py",
   "mimetype": "text/x-python",
   "name": "python",
   "nbconvert_exporter": "python",
   "pygments_lexer": "ipython3",
   "version": "3.8.16"
  }
 },
 "nbformat": 4,
 "nbformat_minor": 4
}
