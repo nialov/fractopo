{
 "cells": [
  {
   "cell_type": "markdown",
   "metadata": {},
   "source": [
    "# Notebook - Fractopo – KB7 Trace Data Validation"
   ]
  },
  {
   "cell_type": "code",
   "execution_count": null,
   "metadata": {},
   "outputs": [],
   "source": [
    "import warnings\n",
    "\n",
    "warnings.filterwarnings(\"ignore\", message=\"The Shapely GEOS\")\n",
    "warnings.filterwarnings(\"ignore\", message=\"In a future version, \")\n",
    "warnings.filterwarnings(\"ignore\", message=\"No data for colormapping provided via\")\n",
    "warnings.filterwarnings(\n",
    "    \"ignore\", message=\"Shapely 2.0 is installed, but because PyGEOS is also installed\"\n",
    ")"
   ]
  },
  {
   "cell_type": "code",
   "execution_count": null,
   "metadata": {},
   "outputs": [],
   "source": [
    "from pathlib import Path\n",
    "\n",
    "import geopandas as gpd\n",
    "from fractopo import Validation\n",
    "import matplotlib.pyplot as plt\n",
    "from shapely.geometry import box\n",
    "import numpy as np"
   ]
  },
  {
   "cell_type": "markdown",
   "metadata": {},
   "source": [
    "## Data (KB7)"
   ]
  },
  {
   "cell_type": "code",
   "execution_count": null,
   "metadata": {},
   "outputs": [],
   "source": [
    "traces_path = Path(\"../../tests/sample_data/KB7/KB7_traces.geojson\")\n",
    "area_path = Path(\"../../tests/sample_data/KB7/KB7_area.geojson\")\n",
    "\n",
    "traces = gpd.read_file(traces_path)\n",
    "area = gpd.read_file(area_path)\n",
    "\n",
    "# Name the dataset\n",
    "name = \"KB7\""
   ]
  },
  {
   "cell_type": "markdown",
   "metadata": {},
   "source": [
    "## Validation (KB7)"
   ]
  },
  {
   "cell_type": "code",
   "execution_count": null,
   "metadata": {},
   "outputs": [],
   "source": [
    "# Create validation object with fixing (i.e. modification of data) allowed.\n",
    "# AREA_EDGE_SNAP_MULTIPLIER is overridden to keep catching this error even with future default\n",
    "# value changes\n",
    "kb7_validation = Validation(\n",
    "    traces, area, name=name, allow_fix=True, AREA_EDGE_SNAP_MULTIPLIER=2.5\n",
    ")"
   ]
  },
  {
   "cell_type": "code",
   "execution_count": null,
   "metadata": {},
   "outputs": [],
   "source": [
    "# Run actual validation and capture the outputted validated trace GeoDataFrame\n",
    "kb7_validated = kb7_validation.run_validation()"
   ]
  },
  {
   "cell_type": "markdown",
   "metadata": {},
   "source": [
    "## Validation results (KB7)"
   ]
  },
  {
   "cell_type": "code",
   "execution_count": null,
   "metadata": {},
   "outputs": [],
   "source": [
    "# Normal DataFrame methods are available for data inspection\n",
    "kb7_validated.columns"
   ]
  },
  {
   "cell_type": "code",
   "execution_count": null,
   "metadata": {},
   "outputs": [],
   "source": [
    "# Convert column data to string to allow hashing and return all unique\n",
    "# validation errors.\n",
    "kb7_validated[\"VALIDATION_ERRORS\"].astype(str).unique()"
   ]
  },
  {
   "cell_type": "code",
   "execution_count": null,
   "metadata": {},
   "outputs": [],
   "source": [
    "# Better description function is found in fractopo.cli\n",
    "from fractopo.cli import describe_results\n",
    "\n",
    "describe_results(kb7_validated, kb7_validation.ERROR_COLUMN)"
   ]
  },
  {
   "cell_type": "markdown",
   "metadata": {},
   "source": [
    "The KB7 dataset contains the above errors of which `MULTI JUNCTION`, `V NODE`, `STACKED TRACES` and `TRACE UNDERLAPS TARGET AREA` are disruptive in further analysis.\n",
    "\n",
    "See documentation: https://nialov.github.io/fractopo/validation/errors.html"
   ]
  },
  {
   "cell_type": "markdown",
   "metadata": {},
   "source": [
    "## Visualization of `MULTI JUNCTION` and `TRACE UNDERLAPS TARGET AREA` errors in notebook\n",
    "\n",
    "Though visualization here is possible, GIS-software (e.g. QGIS, ArcGIS) are much more interactive and are recommended for actual fixing and further error inspection."
   ]
  },
  {
   "cell_type": "markdown",
   "metadata": {},
   "source": [
    "### MULTI JUNCTION"
   ]
  },
  {
   "cell_type": "code",
   "execution_count": null,
   "metadata": {},
   "outputs": [],
   "source": [
    "are_in_box = kb7_validated.intersects(box(466020, 6692090, 466030, 6692105))\n",
    "are_multi_junction = [\n",
    "    \"MULTI JUNCTION\" in err for err in kb7_validated[kb7_validation.ERROR_COLUMN]\n",
    "]\n",
    "kb7_multijunctions = kb7_validated.loc[np.logical_and(are_in_box, are_multi_junction)]\n",
    "kb7_multijunctions"
   ]
  },
  {
   "cell_type": "code",
   "execution_count": null,
   "metadata": {},
   "outputs": [],
   "source": [
    "kb7_multijunctions.plot()"
   ]
  },
  {
   "cell_type": "code",
   "execution_count": null,
   "metadata": {},
   "outputs": [],
   "source": [
    "kb7_multijunctions.plot(colors=[\"red\", \"black\", \"blue\", \"orange\", \"green\"])"
   ]
  },
  {
   "cell_type": "markdown",
   "metadata": {},
   "source": [
    "The plot shows that the green and blue traces abut at their endpoints\n",
    "which is not a valid topology for traces.\n",
    "The fix is done by merging the green and blue traces."
   ]
  },
  {
   "cell_type": "markdown",
   "metadata": {},
   "source": [
    "Additionally the orange trace has a dangling end instead of being accurately snapped to the black trace. "
   ]
  },
  {
   "cell_type": "markdown",
   "metadata": {},
   "source": [
    "### TRACE UNDERLAPS TARGET AREA"
   ]
  },
  {
   "cell_type": "code",
   "execution_count": null,
   "metadata": {},
   "outputs": [],
   "source": [
    "# Find TRACE UNDERLAPS TARGET AREA erroneous traces in GeoDataFrame\n",
    "kb7_underlaps = kb7_validated.loc[\n",
    "    [\n",
    "        \"TRACE UNDERLAPS TARGET AREA\" in err\n",
    "        for err in kb7_validated[kb7_validation.ERROR_COLUMN]\n",
    "    ]\n",
    "]\n",
    "kb7_underlaps"
   ]
  },
  {
   "cell_type": "code",
   "execution_count": null,
   "metadata": {},
   "outputs": [],
   "source": [
    "# Create figure, ax base\n",
    "fig, ax = plt.subplots()\n",
    "\n",
    "# Plot the underlapping trace along with the trace area boundary\n",
    "kb7_underlaps.plot(ax=ax, color=\"red\")\n",
    "area.boundary.plot(ax=ax, color=\"black\")\n",
    "\n",
    "# Get trace bounds\n",
    "minx, miny, maxx, maxy = kb7_underlaps.total_bounds\n",
    "\n",
    "ax.set_xlim(minx - 0.5, maxx + 0.5)\n",
    "ax.set_ylim(miny - 0.5, maxy + 0.5)"
   ]
  },
  {
   "cell_type": "markdown",
   "metadata": {},
   "source": [
    "The plot shows that the trace underlaps the target area at least on the northern end and maybe on the southern end. The fix is implemented by extending the trace to meet the target area boundary."
   ]
  }
 ],
 "metadata": {
  "kernelspec": {
   "display_name": "Python 3 (ipykernel)",
   "language": "python",
   "name": "python3"
  },
  "language_info": {
   "codemirror_mode": {
    "name": "ipython",
    "version": 3
   },
   "file_extension": ".py",
   "mimetype": "text/x-python",
   "name": "python",
   "nbconvert_exporter": "python",
   "pygments_lexer": "ipython3",
   "version": "3.12.5"
  }
 },
 "nbformat": 4,
 "nbformat_minor": 4
}
